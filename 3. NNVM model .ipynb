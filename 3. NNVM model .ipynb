{
 "cells": [
  {
   "cell_type": "markdown",
   "metadata": {},
   "source": [
    "# Create a NNVM model"
   ]
  },
  {
   "cell_type": "code",
   "execution_count": 1,
   "metadata": {},
   "outputs": [
    {
     "name": "stdout",
     "output_type": "stream",
     "text": [
      "Graph(%x, %y) {\n",
      "  %2 = elemwise_add(%x, %y)\n",
      "  ret %2\n",
      "}\n"
     ]
    }
   ],
   "source": [
    "import nnvm\n",
    "import nnvm.symbol as sym\n",
    "x = sym.Variable(\"x\")\n",
    "y = sym.Variable(\"y\")\n",
    "z = sym.elemwise_add(x, y)\n",
    "compute_graph = nnvm.graph.create(z)\n",
    "print(compute_graph.ir())"
   ]
  },
  {
   "cell_type": "markdown",
   "metadata": {},
   "source": [
    "# Compile graph"
   ]
  },
  {
   "cell_type": "code",
   "execution_count": 2,
   "metadata": {},
   "outputs": [],
   "source": [
    "shape = (4,)\n",
    "deploy_graph, lib, params = nnvm.compiler.build(compute_graph, target=\"llvm\", shape={\"x\": shape}, dtype=\"float32\")"
   ]
  },
  {
   "cell_type": "markdown",
   "metadata": {},
   "source": [
    "# Deploy graph in hardware"
   ]
  },
  {
   "cell_type": "code",
   "execution_count": 3,
   "metadata": {},
   "outputs": [],
   "source": [
    "import tvm\n",
    "from tvm.contrib import graph_runtime, util\n",
    "module = graph_runtime.create(deploy_graph, lib, tvm.cpu(0))"
   ]
  },
  {
   "cell_type": "markdown",
   "metadata": {},
   "source": [
    "# Run model"
   ]
  },
  {
   "cell_type": "markdown",
   "metadata": {},
   "source": [
    "## Create input"
   ]
  },
  {
   "cell_type": "code",
   "execution_count": 5,
   "metadata": {},
   "outputs": [
    {
     "data": {
      "text/plain": [
       "<tvm.contrib.graph_runtime.GraphModule at 0x1122a1250>"
      ]
     },
     "execution_count": 5,
     "metadata": {},
     "output_type": "execute_result"
    }
   ],
   "source": [
    "import numpy as np\n",
    "x_np = np.array([1, 2, 3, 4]).astype(\"float32\")\n",
    "y_np = np.array([4, 4, 4, 4]).astype(\"float32\")\n",
    "module.set_input(x=x_np, y=y_np)"
   ]
  },
  {
   "cell_type": "markdown",
   "metadata": {},
   "source": [
    "## Run model"
   ]
  },
  {
   "cell_type": "code",
   "execution_count": 7,
   "metadata": {},
   "outputs": [
    {
     "name": "stdout",
     "output_type": "stream",
     "text": [
      "[5. 6. 7. 8.]\n"
     ]
    }
   ],
   "source": [
    "module.run()\n",
    "out = module.get_output(0, out=tvm.nd.empty(shape))\n",
    "print(out.asnumpy())"
   ]
  },
  {
   "cell_type": "markdown",
   "metadata": {},
   "source": [
    "# Save graph/model"
   ]
  },
  {
   "cell_type": "markdown",
   "metadata": {},
   "source": [
    "Most deep learning models contains two types of inputs: parameters that remains fixed during inference and data input that need to change for each inference task. Provide the ```params={\"y\": y_np}``` and compile the graph"
   ]
  },
  {
   "cell_type": "code",
   "execution_count": 19,
   "metadata": {},
   "outputs": [],
   "source": [
    "deploy_graph, lib, params = nnvm.compiler.build(\n",
    "    compute_graph, target=\"llvm\", shape={\"x\": shape}, params={\"y\": y_np})"
   ]
  },
  {
   "cell_type": "code",
   "execution_count": 20,
   "metadata": {},
   "outputs": [],
   "source": [
    "temp = util.tempdir()\n",
    "path_lib = temp.relpath(\"deploy.so\")\n",
    "lib.export_library(path_lib)"
   ]
  },
  {
   "cell_type": "code",
   "execution_count": 22,
   "metadata": {},
   "outputs": [
    {
     "name": "stdout",
     "output_type": "stream",
     "text": [
      "['deploy.params', 'deploy.json', 'deploy.so']\n"
     ]
    }
   ],
   "source": [
    "with open(temp.relpath(\"deploy.json\"), \"w\") as fo:\n",
    "    fo.write(deploy_graph.json())\n",
    "with open(temp.relpath(\"deploy.params\"), \"wb\") as fo:\n",
    "    fo.write(nnvm.compiler.save_param_dict(params))\n",
    "print(temp.listdir())"
   ]
  },
  {
   "cell_type": "markdown",
   "metadata": {},
   "source": [
    "# Load saved model"
   ]
  },
  {
   "cell_type": "code",
   "execution_count": 25,
   "metadata": {},
   "outputs": [],
   "source": [
    "loaded_lib = tvm.module.load(path_lib)"
   ]
  },
  {
   "cell_type": "code",
   "execution_count": 26,
   "metadata": {},
   "outputs": [],
   "source": [
    "loaded_json = open(temp.relpath(\"deploy.json\")).read()"
   ]
  },
  {
   "cell_type": "code",
   "execution_count": 27,
   "metadata": {},
   "outputs": [],
   "source": [
    "loaded_params = bytearray(open(temp.relpath(\"deploy.params\"), \"rb\").read())"
   ]
  },
  {
   "cell_type": "code",
   "execution_count": 28,
   "metadata": {},
   "outputs": [],
   "source": [
    "module = graph_runtime.create(loaded_json, loaded_lib, tvm.cpu(0))"
   ]
  },
  {
   "cell_type": "code",
   "execution_count": 31,
   "metadata": {},
   "outputs": [],
   "source": [
    "params = nnvm.compiler.load_param_dict(loaded_params)\n",
    "module.load_params(loaded_params)"
   ]
  },
  {
   "cell_type": "code",
   "execution_count": 32,
   "metadata": {},
   "outputs": [],
   "source": [
    "module.run(x=x_np)"
   ]
  },
  {
   "cell_type": "code",
   "execution_count": 33,
   "metadata": {},
   "outputs": [],
   "source": [
    "out = module.get_output(0, out=tvm.nd.empty(shape))"
   ]
  },
  {
   "cell_type": "code",
   "execution_count": 34,
   "metadata": {},
   "outputs": [
    {
     "name": "stdout",
     "output_type": "stream",
     "text": [
      "[5. 6. 7. 8.]\n"
     ]
    }
   ],
   "source": [
    "print(out.asnumpy())"
   ]
  },
  {
   "cell_type": "code",
   "execution_count": null,
   "metadata": {},
   "outputs": [],
   "source": []
  }
 ],
 "metadata": {
  "kernelspec": {
   "display_name": "Python 3",
   "language": "python",
   "name": "python3"
  },
  "language_info": {
   "codemirror_mode": {
    "name": "ipython",
    "version": 3
   },
   "file_extension": ".py",
   "mimetype": "text/x-python",
   "name": "python",
   "nbconvert_exporter": "python",
   "pygments_lexer": "ipython3",
   "version": "3.7.4"
  }
 },
 "nbformat": 4,
 "nbformat_minor": 2
}
