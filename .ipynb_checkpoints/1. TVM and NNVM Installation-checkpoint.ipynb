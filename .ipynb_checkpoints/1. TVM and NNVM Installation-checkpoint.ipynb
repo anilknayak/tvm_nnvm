{
 "cells": [
  {
   "cell_type": "markdown",
   "metadata": {},
   "source": [
    "# Installation on macOS - 20 steps"
   ]
  },
  {
   "cell_type": "markdown",
   "metadata": {},
   "source": [
    "To leverage all functionality of TVM and NNVM, all the libraries has to be build with llvm support."
   ]
  },
  {
   "cell_type": "markdown",
   "metadata": {},
   "source": [
    "## Install Anaconda"
   ]
  },
  {
   "cell_type": "raw",
   "metadata": {},
   "source": [
    "Download anaconda with latest python from https://www.anaconda.com/"
   ]
  },
  {
   "cell_type": "markdown",
   "metadata": {},
   "source": [
    "## LLVM"
   ]
  },
  {
   "cell_type": "markdown",
   "metadata": {},
   "source": [
    "Check llvm is already installed"
   ]
  },
  {
   "cell_type": "raw",
   "metadata": {},
   "source": [
    "brew info llvm"
   ]
  },
  {
   "cell_type": "markdown",
   "metadata": {},
   "source": [
    "Install llvm/clang both"
   ]
  },
  {
   "cell_type": "raw",
   "metadata": {},
   "source": [
    "brew install --with-toolchain llvm"
   ]
  },
  {
   "cell_type": "markdown",
   "metadata": {},
   "source": [
    "Export to bash profile"
   ]
  },
  {
   "cell_type": "raw",
   "metadata": {},
   "source": [
    "echo 'export PATH=\"/usr/local/opt/llvm/bin:$PATH\"' >> ~/.bash_profile"
   ]
  },
  {
   "cell_type": "markdown",
   "metadata": {},
   "source": [
    "Search for llvm-config path\n",
    "1. Check folder ```/usr/local/opt/```\n",
    "2. Search for llvm directory, you might have two version of llvm installed. Choose the latest version directory\n",
    "3. Copy the llvm-config path ```/usr/local/opt/<llvm-version-dir>/bin/llvm-config```"
   ]
  },
  {
   "cell_type": "markdown",
   "metadata": {},
   "source": [
    "## Install TVM"
   ]
  },
  {
   "cell_type": "raw",
   "metadata": {},
   "source": [
    "1. git clone --recursive https://github.com/dmlc/nnvm\n",
    "2. cd nnvm/tvm\n",
    "3. mkdir build\n",
    "4. cd cmake"
   ]
  },
  {
   "cell_type": "markdown",
   "metadata": {},
   "source": [
    "change the ```config.cmake``` in side cmake dir. Following are the changes to enable LLVM support"
   ]
  },
  {
   "cell_type": "markdown",
   "metadata": {},
   "source": [
    "5. Use CUDA support: then search for ```set(USE_CUDA OFF)``` and change it to ```set(USE_CUDA ON)```\n",
    "6. Use LLVM support: then search for ```set(USE_LLVM OFF)``` and change it to ```set(USE_LLVM ON)```\n",
    "this will work only when only one version of llvm is installed. if there are more then two versions are installed. Then you have to change that ON flag to actual llvm-config path as we have copied earlier.\n",
    "```set(USE_LLVM OFF)``` and change it to ```set(USE_LLVM /usr/local/opt/<llvm-version-dir>/bin/llvm-config)```"
   ]
  },
  {
   "cell_type": "raw",
   "metadata": {},
   "source": [
    "7. cd ../build\n",
    "8. cp cmake/config.cmake ./\n",
    "9. cmake .."
   ]
  },
  {
   "cell_type": "markdown",
   "metadata": {},
   "source": [
    "this will take some time and you might get outputs as follows\n",
    "```\n",
    "-- The C compiler identification is AppleClang 11.0.0.11000033\n",
    "-- The CXX compiler identification is AppleClang 11.0.0.11000033\n",
    "-- Check for working C compiler: /Library/Developer/CommandLineTools/usr/bin/cc\n",
    "-- Check for working C compiler: /Library/Developer/CommandLineTools/usr/bin/cc -- works\n",
    "-- Detecting C compiler ABI info\n",
    "-- Detecting C compiler ABI info - done\n",
    "-- Detecting C compile features\n",
    "-- Detecting C compile features - done\n",
    "-- Check for working CXX compiler: /Library/Developer/CommandLineTools/usr/bin/c++\n",
    "-- Check for working CXX compiler: /Library/Developer/CommandLineTools/usr/bin/c++ -- works\n",
    "-- Detecting CXX compiler ABI info\n",
    "-- Detecting CXX compiler ABI info - done\n",
    "-- Detecting CXX compile features\n",
    "-- Detecting CXX compile features - done\n",
    "-- Performing Test SUPPORT_CXX11\n",
    "-- Performing Test SUPPORT_CXX11 - Success\n",
    "-- Build with RPC support...\n",
    "-- Build with Graph runtime support...\n",
    "-- Build VTA runtime with target: sim\n",
    "-- Use llvm-config=/usr/local/opt/llvm@9/bin/llvm-config\n",
    "-- /usr/local/Cellar/llvm/9.0.0/include\n",
    "-- Build with LLVM \n",
    "-- Set TVM_LLVM_VERSION=90\n",
    "-- Configuring done\n",
    "-- Generating done\n",
    "-- Build files have been written to: /Users/<user>/nnvm/tvm/build\n",
    "```\n",
    "\n",
    "I have two version of llvm installed. So I have used ```llvm@9``` directory for version 9.0"
   ]
  },
  {
   "cell_type": "raw",
   "metadata": {},
   "source": [
    "10. make"
   ]
  },
  {
   "cell_type": "markdown",
   "metadata": {},
   "source": [
    "After this the TVM is build successfully from source and read to install the shared libraries and python libraries. Following are the steps to install python and shared libraries in macOS"
   ]
  },
  {
   "cell_type": "raw",
   "metadata": {},
   "source": [
    "11. cd ../python\n",
    "12. sudo python setup.py install\n",
    "13. cd ../topi/python\n",
    "14. sudo python setup.py install"
   ]
  },
  {
   "cell_type": "markdown",
   "metadata": {},
   "source": [
    "## Install NNVM"
   ]
  },
  {
   "cell_type": "raw",
   "metadata": {},
   "source": [
    "15. cd ../../nnvm\n",
    "16. make\n",
    "17. cd python\n",
    "18. sudo python setup.py install"
   ]
  },
  {
   "cell_type": "markdown",
   "metadata": {},
   "source": [
    "Then export some path variables"
   ]
  },
  {
   "cell_type": "raw",
   "metadata": {},
   "source": [
    "19. export PYTHONPATH=<path to nnvm git root dir>/tvm/nnvm/python:${PYTHONPATH}\n",
    "20. export LD_LIBRARY_PATH=<path to nnvm git root dir>/tvm/build:${LD_LIBRARY_PATH}"
   ]
  },
  {
   "cell_type": "markdown",
   "metadata": {},
   "source": [
    "## Install Tensorflow"
   ]
  },
  {
   "cell_type": "raw",
   "metadata": {},
   "source": [
    "pip install tensorflow"
   ]
  },
  {
   "cell_type": "markdown",
   "metadata": {},
   "source": [
    "## Verify all the installed libraries"
   ]
  },
  {
   "cell_type": "code",
   "execution_count": 1,
   "metadata": {},
   "outputs": [],
   "source": [
    "import tvm"
   ]
  },
  {
   "cell_type": "code",
   "execution_count": 2,
   "metadata": {},
   "outputs": [],
   "source": [
    "import nnvm"
   ]
  },
  {
   "cell_type": "code",
   "execution_count": 3,
   "metadata": {},
   "outputs": [],
   "source": [
    "import tensorflow"
   ]
  },
  {
   "cell_type": "code",
   "execution_count": 4,
   "metadata": {},
   "outputs": [
    {
     "name": "stdout",
     "output_type": "stream",
     "text": [
      "None\n"
     ]
    }
   ],
   "source": [
    "print(tvm.target.current_target())"
   ]
  },
  {
   "cell_type": "code",
   "execution_count": 5,
   "metadata": {},
   "outputs": [
    {
     "name": "stdout",
     "output_type": "stream",
     "text": [
      "Graph(%x, %y) {\n",
      "  %2 = elemwise_add(%x, %y)\n",
      "  ret %2\n",
      "}\n"
     ]
    }
   ],
   "source": [
    "import nnvm\n",
    "import nnvm.symbol as sym\n",
    "x = sym.Variable(\"x\")\n",
    "y = sym.Variable(\"y\")\n",
    "z = sym.elemwise_add(x, y)\n",
    "compute_graph = nnvm.graph.create(z)\n",
    "print(compute_graph.ir())\n",
    "shape = (4,)\n",
    "deploy_graph, lib, params = nnvm.compiler.build(compute_graph, target=\"llvm\", shape={\"x\": shape}, dtype=\"float32\")"
   ]
  },
  {
   "cell_type": "markdown",
   "metadata": {},
   "source": [
    "```target=\"llvm\"``` is set to llvm and it will compile a simple graph in nnvm"
   ]
  },
  {
   "cell_type": "markdown",
   "metadata": {},
   "source": [
    "### Now you are all set from the installation"
   ]
  },
  {
   "cell_type": "markdown",
   "metadata": {},
   "source": [
    "# Next Chapter 2: Comparison of TVM/NNVM/Tensorflow and tech stack"
   ]
  },
  {
   "cell_type": "markdown",
   "metadata": {},
   "source": [
    "Install some dependecies "
   ]
  },
  {
   "cell_type": "raw",
   "metadata": {},
   "source": [
    "pip install --user psutil xgboost tornado"
   ]
  },
  {
   "cell_type": "raw",
   "metadata": {},
   "source": [
    "pip install antlr4-python3-runtime==4.7.2"
   ]
  },
  {
   "cell_type": "code",
   "execution_count": null,
   "metadata": {},
   "outputs": [],
   "source": []
  }
 ],
 "metadata": {
  "kernelspec": {
   "display_name": "Python 3",
   "language": "python",
   "name": "python3"
  },
  "language_info": {
   "codemirror_mode": {
    "name": "ipython",
    "version": 3
   },
   "file_extension": ".py",
   "mimetype": "text/x-python",
   "name": "python",
   "nbconvert_exporter": "python",
   "pygments_lexer": "ipython3",
   "version": "3.7.4"
  }
 },
 "nbformat": 4,
 "nbformat_minor": 2
}
